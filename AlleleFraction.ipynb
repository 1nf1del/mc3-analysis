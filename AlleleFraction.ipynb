{
 "metadata": {
  "name": "",
  "signature": "sha256:cc78c63848e783ba4a926a0802c6bf36930bb9240766c708575436f3fc7808fc"
 },
 "nbformat": 3,
 "nbformat_minor": 0,
 "worksheets": [
  {
   "cells": [
    {
     "cell_type": "code",
     "collapsed": false,
     "input": [
      "%matplotlib inline\n",
      "import csv\n",
      "import gzip\n",
      "import matplotlib.pyplot as plt\n",
      "import numpy as np\n",
      "import itertools\n",
      "import pandas\n",
      "import json\n",
      "from sklearn import linear_model, model_selection, metrics\n",
      "from matplotlib.backends.backend_pdf import PdfPages\n",
      "from adjustText import adjust_text"
     ],
     "language": "python",
     "metadata": {},
     "outputs": [],
     "prompt_number": 1
    },
    {
     "cell_type": "code",
     "collapsed": false,
     "input": [
      "validation_file = \"mc3.v0.2.8.validated.maf.gz\""
     ],
     "language": "python",
     "metadata": {},
     "outputs": [],
     "prompt_number": 2
    },
    {
     "cell_type": "code",
     "collapsed": false,
     "input": [
      "def row_id(row):\n",
      "    return \"%s:%s:%s:%s\" % (row['Tumor_Sample_Barcode'], \n",
      "                            row['Chromosome'], \n",
      "                            row['Start_Position'],\n",
      "                            row['End_Position'])"
     ],
     "language": "python",
     "metadata": {},
     "outputs": [],
     "prompt_number": 3
    },
    {
     "cell_type": "code",
     "collapsed": false,
     "input": [
      "maf_map = {}\n",
      "somatic_data = []\n",
      "germline_data = []\n",
      "none_data = []\n",
      "callers = set()\n",
      "filters = set()\n",
      "with gzip.GzipFile(validation_file) as handle:\n",
      "    reader = csv.DictReader(handle, delimiter=\"\\t\")\n",
      "    for row in reader:\n",
      "        i = row_id(row)\n",
      "        if i not in maf_map:\n",
      "            maf_map[i] = []\n",
      "        maf_map[i].append(row)\n",
      "\n",
      "for v in maf_map.values():\n",
      "    if len(v) == 1: #no ambiguous calls\n",
      "        row = v[0]\n",
      "        if row[\"VALIDATION_STATUS\"] == \"Somatic\":\n",
      "            somatic_data.append(row)\n",
      "        elif row[\"VALIDATION_STATUS\"] == \"Germline\":\n",
      "            germline_data.append(row)\n",
      "        elif row[\"VALIDATION_STATUS\"] == \"None\":\n",
      "            none_data.append(row)\n",
      "        else:\n",
      "            raise Exception(\"Weird Data\")\n",
      "        for i in row[\"CENTERS\"].split(\"|\"):\n",
      "            callers.add(i.replace(\"*\", \"\"))\n",
      "        for i in row[\"FILTER\"].split(\",\"):\n",
      "            filters.add(i)"
     ],
     "language": "python",
     "metadata": {},
     "outputs": [],
     "prompt_number": 4
    },
    {
     "cell_type": "code",
     "collapsed": false,
     "input": [
      "val_vaf = []\n",
      "with gzip.GzipFile(validation_file) as handle:\n",
      "    reader = csv.DictReader(handle, delimiter=\"\\t\")\n",
      "    for row in reader:\n",
      "        vaf = float(row['t_alt_count']) / (float(row['t_alt_count']) + float(row['t_ref_count']))\n",
      "        val_vaf.append(vaf)"
     ],
     "language": "python",
     "metadata": {},
     "outputs": [],
     "prompt_number": 6
    },
    {
     "cell_type": "code",
     "collapsed": false,
     "input": [
      "np.mean(val_vaf)"
     ],
     "language": "python",
     "metadata": {},
     "outputs": [
      {
       "metadata": {},
       "output_type": "pyout",
       "prompt_number": 7,
       "text": [
        "0.23993686435256664"
       ]
      }
     ],
     "prompt_number": 7
    },
    {
     "cell_type": "code",
     "collapsed": false,
     "input": [
      "np.mean(controlled_vaf)"
     ],
     "language": "python",
     "metadata": {},
     "outputs": [
      {
       "metadata": {},
       "output_type": "pyout",
       "prompt_number": 21,
       "text": [
        "0.24220761325296195"
       ]
      }
     ],
     "prompt_number": 21
    },
    {
     "cell_type": "code",
     "collapsed": false,
     "input": [
      "controlled_file = \"mc3.v0.2.7.CONTROLLED.projects.maf.gz\"\n",
      "controlled_vaf = []\n",
      "with gzip.GzipFile(controlled_file) as handle:\n",
      "    reader = csv.DictReader(handle, delimiter=\"\\t\")\n",
      "    for row in reader:\n",
      "        vaf = float(row['t_alt_count']) / (float(row['t_alt_count']) + float(row['t_ref_count']))\n",
      "        controlled_vaf.append(vaf)"
     ],
     "language": "python",
     "metadata": {},
     "outputs": [],
     "prompt_number": 62
    },
    {
     "cell_type": "code",
     "collapsed": false,
     "input": [
      "public_file = \"mc3.v0.2.7.PUBLIC.maf.gz\"\n",
      "public_vaf = []\n",
      "with gzip.GzipFile(public_file) as handle:\n",
      "    reader = csv.DictReader(handle, delimiter=\"\\t\")\n",
      "    for row in reader:\n",
      "        vaf = float(row['t_alt_count']) / (float(row['t_alt_count']) + float(row['t_ref_count']))\n",
      "        public_vaf.append(vaf)"
     ],
     "language": "python",
     "metadata": {},
     "outputs": [],
     "prompt_number": 17
    },
    {
     "cell_type": "code",
     "collapsed": false,
     "input": [
      "\n",
      "def bin_vafs(a):\n",
      "    l = [\n",
      "        (0.00, 0.02),\n",
      "        (0.02, 0.05),\n",
      "        (0.05, 0.15),\n",
      "        (0.15, 0.25),\n",
      "        (0.25, 0.50),\n",
      "        (0.50, 1.00),\n",
      "    ]\n",
      "    x = []\n",
      "    for i in l:\n",
      "        x.append( sum(map(lambda x: x > i[0] and x < i[1], a)) )\n",
      "    \"\"\"\n",
      "    x = [\n",
      "        sum(map(lambda x: x < 0.02, a)),\n",
      "        sum(map(lambda x: (x > 0.02 and x < 0.05), a)),\n",
      "        sum(map(lambda x: (x > 0.05 and x < 0.15), a)),\n",
      "        sum(map(lambda x: (x > 0.15 and x < 0.25), a)),\n",
      "        sum(map(lambda x: (x > 0.25 and x < 0.50), a)),\n",
      "        sum(map(lambda x: (x > 0.50), a))\n",
      "    ]\n",
      "    \"\"\"\n",
      "    return x, l"
     ],
     "language": "python",
     "metadata": {},
     "outputs": [],
     "prompt_number": 49
    },
    {
     "cell_type": "code",
     "collapsed": false,
     "input": [
      "plt.figure(1, figsize=(18, 10))\n",
      "\n",
      "x, l = bin_vafs(val_vaf)\n",
      "ax1 = plt.subplot(1,3,1)\n",
      "ax1.axis('equal')\n",
      "ax1.set_title(\"Validation\")\n",
      "patches, texts = ax1.pie(x)\n",
      "x, l = bin_vafs(public_vaf)\n",
      "ax2 = plt.subplot(1,3,2)\n",
      "ax2.axis('equal')\n",
      "ax2.set_title(\"Public\")\n",
      "_ = ax2.pie(x)\n",
      "\n",
      "x, l = bin_vafs(controlled_vaf)\n",
      "ax3 = plt.subplot(1,3,3)\n",
      "ax3.axis('equal')\n",
      "ax3.set_title(\"Controlled\")\n",
      "_ = ax3.pie(x)\n",
      "\n",
      "labels = []\n",
      "for i in l:\n",
      "    labels.append( \"%s to %s\" % (i[0], i[1]) )\n",
      "plt.legend(patches, labels, loc=\"best\")"
     ],
     "language": "python",
     "metadata": {},
     "outputs": [
      {
       "metadata": {},
       "output_type": "pyout",
       "prompt_number": 65,
       "text": [
        "<matplotlib.legend.Legend at 0x7f2ee4dd5ad0>"
       ]
      },
      {
       "metadata": {},
       "output_type": "display_data",
       "png": "[encoded data removed]",
       "text": [
        "<matplotlib.figure.Figure at 0x7f2ee4d41a90>"
       ]
      }
     ],
     "prompt_number": 65
    },
    {
     "cell_type": "code",
     "collapsed": false,
     "input": [
      "len(controlled_vaf)"
     ],
     "language": "python",
     "metadata": {},
     "outputs": [
      {
       "metadata": {},
       "output_type": "pyout",
       "prompt_number": 64,
       "text": [
        "22485627"
       ]
      }
     ],
     "prompt_number": 64
    },
    {
     "cell_type": "code",
     "collapsed": false,
     "input": [],
     "language": "python",
     "metadata": {},
     "outputs": []
    }
   ],
   "metadata": {}
  }
 ]
}