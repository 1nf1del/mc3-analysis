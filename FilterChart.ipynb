{
 "metadata": {
  "name": "",
  "signature": "sha256:6fba928076c607c6f6076365a8edc9c9fc4f1c850aa697c259e50d9b9a10c0fe"
 },
 "nbformat": 3,
 "nbformat_minor": 0,
 "worksheets": [
  {
   "cells": [
    {
     "cell_type": "code",
     "collapsed": false,
     "input": [
      "%matplotlib inline\n",
      "import csv\n",
      "import gzip\n",
      "import numpy as np\n",
      "import itertools\n",
      "import pandas\n",
      "import json\n",
      "from sklearn import linear_model, model_selection, metrics\n",
      "\n",
      "import matplotlib.pyplot as plt\n",
      "import matplotlib.gridspec as gridspec\n",
      "from matplotlib.backends.backend_pdf import PdfPages\n",
      "\n",
      "from adjustText import adjust_text"
     ],
     "language": "python",
     "metadata": {},
     "outputs": [],
     "prompt_number": 1
    },
    {
     "cell_type": "code",
     "collapsed": false,
     "input": [
      "full_path = \"Data/mc3.v0.2.8.CONTROLLED.maf\"\n",
      "public_path = \"Data/mc3.v0.2.8.PUBLIC.maf\"\n",
      "#validation_path = \"Data/mc3_all_pairsets.aggregated.maf\"\n",
      "validation_path = \"Data/mc3.v0.2.8.BROAD_VALIDATIONv2.maf\""
     ],
     "language": "python",
     "metadata": {},
     "outputs": [],
     "prompt_number": 2
    },
    {
     "cell_type": "code",
     "collapsed": false,
     "input": [
      "def row_extract(row):\n",
      "    out = {}\n",
      "    for i in [\"FILTER\", 'Variant_Type', 'CENTERS']:\n",
      "        out[i] = row[i]\n",
      "    return out\n",
      "\n",
      "full_data = []\n",
      "with open(full_path) as handle:\n",
      "    reader = csv.DictReader(handle, delimiter=\"\\t\")\n",
      "    for row in reader:\n",
      "        full_data.append(row_extract(row))"
     ],
     "language": "python",
     "metadata": {},
     "outputs": [],
     "prompt_number": 3
    },
    {
     "cell_type": "code",
     "collapsed": false,
     "input": [
      "public_data = []\n",
      "with open(public_path) as handle:\n",
      "    reader = csv.DictReader(handle, delimiter=\"\\t\")\n",
      "    for row in reader:\n",
      "        public_data.append(row_extract(row))"
     ],
     "language": "python",
     "metadata": {},
     "outputs": [],
     "prompt_number": 4
    },
    {
     "cell_type": "code",
     "collapsed": false,
     "input": [
      "def validation_status(line):\n",
      "    consensus_judgement = 0\n",
      "    powered = False\n",
      "    for d in data_types:\n",
      "        power_field = 'validation_power_' + d\n",
      "        d_power = line[power_field]\n",
      "        if d_power != \"\" and float(d_power) < 0.95:\n",
      "            continue\n",
      "        judgement_field = 'validation_judgement_' + d\n",
      "        if line[judgement_field] == '' or line[judgement_field] == 'NaN':\n",
      "            continue\n",
      "        powered = True\n",
      "\n",
      "        d_judgement = int(line[judgement_field])\n",
      "        # 0 = unvalidated, 1 = validated, 2 = germline\n",
      "        if d_judgement > consensus_judgement:\n",
      "            consensus_judgement = d_judgement\n",
      "    if not powered:\n",
      "        return None\n",
      "    if consensus_judgement == 0:\n",
      "        return \"unvalidated_powered\"\n",
      "    if consensus_judgement == 1:\n",
      "        return \"validated_powered\"\n",
      "    if consensus_judgement == 2:\n",
      "        return \"germline_powered\"\n",
      "\n",
      "data_types = ['targeted','wgs']\n",
      "\n",
      "validation_data = []\n",
      "with open(validation_path) as handle:\n",
      "    reader = csv.DictReader(handle, delimiter=\"\\t\")\n",
      "    for row in reader:\n",
      "        f = row['FILTER'].split(\",\")\n",
      "        use = True\n",
      "        for i in ['gapfiller', 'wga', 'contest', 'native_wga_mix', 'NonExonic', \"bitgt\", 'nonpreferredpair']:\n",
      "            if i in f:\n",
      "                use = False\n",
      "        if validation_status(row) is None:\n",
      "            use = False\n",
      "        if use:\n",
      "            validation_data.append(row_extract(row))    "
     ],
     "language": "python",
     "metadata": {},
     "outputs": [],
     "prompt_number": 5
    },
    {
     "cell_type": "code",
     "collapsed": false,
     "input": [
      "len(validation_data)"
     ],
     "language": "python",
     "metadata": {},
     "outputs": [
      {
       "metadata": {},
       "output_type": "pyout",
       "prompt_number": 6,
       "text": [
        "405854"
       ]
      }
     ],
     "prompt_number": 6
    },
    {
     "cell_type": "code",
     "collapsed": false,
     "input": [
      "full_counts = {}\n",
      "for i in full_data:\n",
      "    for n in i[\"FILTER\"].split(\",\"):\n",
      "        full_counts[n] = full_counts.get(n,0) + 1"
     ],
     "language": "python",
     "metadata": {},
     "outputs": [],
     "prompt_number": 7
    },
    {
     "cell_type": "code",
     "collapsed": false,
     "input": [
      "public_counts = {}\n",
      "for i in public_data:\n",
      "    for n in i[\"FILTER\"].split(\",\"):\n",
      "        public_counts[n] = public_counts.get(n,0) + 1"
     ],
     "language": "python",
     "metadata": {},
     "outputs": [],
     "prompt_number": 8
    },
    {
     "cell_type": "code",
     "collapsed": false,
     "input": [
      "validation_counts = {}\n",
      "for i in validation_data:\n",
      "    for n in i[\"FILTER\"].split(\",\"):\n",
      "        validation_counts[n] = validation_counts.get(n,0) + 1"
     ],
     "language": "python",
     "metadata": {},
     "outputs": [],
     "prompt_number": 9
    },
    {
     "cell_type": "code",
     "collapsed": false,
     "input": [
      "sorted(full_counts.keys())"
     ],
     "language": "python",
     "metadata": {},
     "outputs": [
      {
       "metadata": {},
       "output_type": "pyout",
       "prompt_number": 10,
       "text": [
        "['NonExonic',\n",
        " 'PASS',\n",
        " 'StrandBias',\n",
        " 'badseq',\n",
        " 'bitgt',\n",
        " 'broad_PoN_v2',\n",
        " 'common_in_exac',\n",
        " 'contest',\n",
        " 'gapfiller',\n",
        " 'native_wga_mix',\n",
        " 'ndp',\n",
        " 'nonpreferredpair',\n",
        " 'oxog',\n",
        " 'pcadontuse',\n",
        " 'wga']"
       ]
      }
     ],
     "prompt_number": 10
    },
    {
     "cell_type": "code",
     "collapsed": false,
     "input": [
      "columns = [\n",
      "    'PASS',\n",
      "    'NonExonic',\n",
      "    'StrandBias',\n",
      "    'badseq',\n",
      "    'bitgt',\n",
      "    'broad_PoN_v2',\n",
      "    'common_in_exac',\n",
      "    'contest',\n",
      "    'gapfiller',\n",
      "    'native_wga_mix',\n",
      "    'ndp',\n",
      "    'nonpreferredpair',\n",
      "    'oxog',\n",
      "    'pcadontuse',\n",
      "    'wga'\n",
      "]"
     ],
     "language": "python",
     "metadata": {},
     "outputs": [],
     "prompt_number": 11
    },
    {
     "cell_type": "code",
     "collapsed": false,
     "input": [
      "data = [[],[],[]]\n",
      "for i in columns:\n",
      "    data[0].append( full_counts.get(i, 0) / float(len(full_data)) )\n",
      "    data[1].append( public_counts.get(i, 0) / float(len(public_data)) )\n",
      "    data[2].append( validation_counts.get(i, 0) / float(len(validation_data)) )\n"
     ],
     "language": "python",
     "metadata": {},
     "outputs": [],
     "prompt_number": 12
    },
    {
     "cell_type": "code",
     "collapsed": false,
     "input": [
      "\n",
      "pdf = PdfPages('Pdfs/Figure_3.pdf')\n",
      "\n",
      "fig, ax = plt.subplots(figsize=(15,10))\n",
      "\n",
      "\n",
      "bar_width = 0.25\n",
      "index = np.arange(len(columns))\n",
      "\n",
      "p1 = plt.bar(index, data[0], bar_width)#, log=True)\n",
      "p2 = plt.bar(index + bar_width, data[1], bar_width)#, log=True)\n",
      "p3 = plt.bar(index + bar_width * 2, data[2], bar_width)#, log=True)\n",
      "\n",
      "ax.set_xticks(index + bar_width)\n",
      "ax.set_xticklabels(columns, rotation=45)\n",
      "\n",
      "ax.set_position((.1, .3, .8, .6))\n",
      "\n",
      "vals = ax.get_yticks()\n",
      "ax.set_yticklabels(['{:3.2f}%'.format(x*100) for x in vals])\n",
      "\n",
      "#plt.yticklabels(['{:3.2f}%'.format(x*100) for x in vals])\n",
      "\n",
      "leg = plt.legend((p1[0], p2[0], p3[0]), #, p5[0]), \n",
      "     ('Full', 'Public', \"Validation\"),\n",
      "               prop={'size':20})\n",
      "\n",
      "\n",
      "txt = \"\"\"Figure 3: The frequency of filters on different datasets, including the Full set of calls, the set of calls after \n",
      "filtering sites for public release and the calls used for validation analysis. The full set of calls is dominated by NonExonic\n",
      "and sites not part of the capture kit intersection. The set of validation calls has a higher percentage of PASS calls, \n",
      "reflecting its bias toward higher quaility variant calls.\"\"\"\n",
      "\n",
      "#plt.figtext(.05, .05, txt)\n",
      "fig.text(.05, .05, txt, fontdict={'size' : 14})\n",
      "\n",
      "pdf.savefig()\n",
      "plt.close()\n",
      "pdf.close()\n"
     ],
     "language": "python",
     "metadata": {},
     "outputs": [],
     "prompt_number": 13
    },
    {
     "cell_type": "code",
     "collapsed": false,
     "input": [
      "from IPython.display import FileLink, FileLinks\n",
      "FileLink('Pdfs/Figure_3.pdf')"
     ],
     "language": "python",
     "metadata": {},
     "outputs": [
      {
       "html": [
        "<a href='Pdfs/Figure_3.pdf' target='_blank'>Pdfs/Figure_3.pdf</a><br>"
       ],
       "metadata": {},
       "output_type": "pyout",
       "prompt_number": 14,
       "text": [
        "/mnt/mc3-analysis/Pdfs/Figure_3.pdf"
       ]
      }
     ],
     "prompt_number": 14
    },
    {
     "cell_type": "code",
     "collapsed": false,
     "input": [
      "\n",
      "table = pandas.DataFrame({ \n",
      " \"full\" : dict(full_counts, total=len(full_data)),\n",
      " \"public\" : dict(public_counts, total=len(public_data)),\n",
      " \"validation_counts\" : dict(validation_counts, total=len(validation_data))\n",
      "})"
     ],
     "language": "python",
     "metadata": {},
     "outputs": [],
     "prompt_number": 15
    },
    {
     "cell_type": "code",
     "collapsed": false,
     "input": [
      "table.to_csv(\"Figure3.tsv\", sep=\"\\t\")"
     ],
     "language": "python",
     "metadata": {},
     "outputs": [],
     "prompt_number": 16
    },
    {
     "cell_type": "code",
     "collapsed": false,
     "input": [
      "FileLink('Figure3.tsv')"
     ],
     "language": "python",
     "metadata": {},
     "outputs": [
      {
       "html": [
        "<a href='Figure3.tsv' target='_blank'>Figure3.tsv</a><br>"
       ],
       "metadata": {},
       "output_type": "pyout",
       "prompt_number": 17,
       "text": [
        "/mnt/mc3-analysis/Figure3.tsv"
       ]
      }
     ],
     "prompt_number": 17
    },
    {
     "cell_type": "code",
     "collapsed": false,
     "input": [],
     "language": "python",
     "metadata": {},
     "outputs": [],
     "prompt_number": 17
    }
   ],
   "metadata": {}
  }
 ]
}