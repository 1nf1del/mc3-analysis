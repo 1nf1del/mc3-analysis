{
 "metadata": {
  "name": "",
  "signature": "sha256:54ee46f96653112f7a287f677b27a5b21c680e75b6b381e72fed1804053c8f33"
 },
 "nbformat": 3,
 "nbformat_minor": 0,
 "worksheets": [
  {
   "cells": [
    {
     "cell_type": "code",
     "collapsed": false,
     "input": [
      "%matplotlib inline\n",
      "import csv\n",
      "import gzip\n",
      "import matplotlib.pyplot as plt\n",
      "import numpy as np\n",
      "import itertools\n",
      "import pandas\n",
      "import json\n",
      "from sklearn import linear_model, model_selection, metrics\n",
      "from matplotlib.backends.backend_pdf import PdfPages\n",
      "from adjustText import adjust_text"
     ],
     "language": "python",
     "metadata": {},
     "outputs": [],
     "prompt_number": 1
    },
    {
     "cell_type": "code",
     "collapsed": false,
     "input": [
      "validation_file = \"mc3.v0.2.8.validated.projects.maf.gz\""
     ],
     "language": "python",
     "metadata": {},
     "outputs": [],
     "prompt_number": 2
    },
    {
     "cell_type": "code",
     "collapsed": false,
     "input": [
      "def row_id(row):\n",
      "    return \"%s:%s:%s:%s\" % (row['Tumor_Sample_Barcode'], \n",
      "                            row['Chromosome'], \n",
      "                            row['Start_Position'],\n",
      "                            row['End_Position'])"
     ],
     "language": "python",
     "metadata": {},
     "outputs": [],
     "prompt_number": 3
    },
    {
     "cell_type": "code",
     "collapsed": false,
     "input": [
      "maf_map = {}\n",
      "somatic_data = []\n",
      "germline_data = []\n",
      "none_data = []\n",
      "callers = set()\n",
      "filters = set()\n",
      "with gzip.GzipFile(validation_file) as handle:\n",
      "    reader = csv.DictReader(handle, delimiter=\"\\t\")\n",
      "    for row in reader:\n",
      "        i = row_id(row)\n",
      "        if i not in maf_map:\n",
      "            maf_map[i] = []\n",
      "        maf_map[i].append(row)\n",
      "\n",
      "for v in maf_map.values():\n",
      "    if len(v) == 1: #no ambiguous calls\n",
      "        row = v[0]\n",
      "        if row[\"VALIDATION_STATUS\"] == \"Somatic\":\n",
      "            somatic_data.append(row)\n",
      "        elif row[\"VALIDATION_STATUS\"] == \"Germline\":\n",
      "            germline_data.append(row)\n",
      "        elif row[\"VALIDATION_STATUS\"] == \"None\":\n",
      "            none_data.append(row)\n",
      "        else:\n",
      "            raise Exception(\"Weird Data\")\n",
      "        for i in row[\"CENTERS\"].split(\"|\"):\n",
      "            callers.add(i.replace(\"*\", \"\"))\n",
      "        for i in row[\"FILTER\"].split(\",\"):\n",
      "            filters.add(i)"
     ],
     "language": "python",
     "metadata": {},
     "outputs": [],
     "prompt_number": 4
    },
    {
     "cell_type": "code",
     "collapsed": false,
     "input": [
      "code_count = {}\n",
      "for i in somatic_data + germline_data + none_data:\n",
      "    code_count[i['CODE']] = code_count.get(i['CODE'], 0) + 1"
     ],
     "language": "python",
     "metadata": {},
     "outputs": [],
     "prompt_number": 7
    },
    {
     "cell_type": "code",
     "collapsed": false,
     "input": [
      "code_count"
     ],
     "language": "python",
     "metadata": {},
     "outputs": [
      {
       "metadata": {},
       "output_type": "pyout",
       "prompt_number": 8,
       "text": [
        "{'ACC': 3360,\n",
        " 'BLCA': 671,\n",
        " 'BRCA': 5247,\n",
        " 'CESC': 19770,\n",
        " 'CHOL': 4213,\n",
        " 'ESCA': 33466,\n",
        " 'GBM': 759,\n",
        " 'HNSC': 536,\n",
        " 'KICH': 107,\n",
        " 'KIRC': 53,\n",
        " 'KIRP': 680,\n",
        " 'LAML': 39,\n",
        " 'LGG': 689,\n",
        " 'LIHC': 837,\n",
        " 'LUAD': 10968,\n",
        " 'LUSC': 3559,\n",
        " 'PCPG': 76,\n",
        " 'SKCM': 785,\n",
        " 'STAD': 488,\n",
        " 'TGCT': 511,\n",
        " 'THCA': 437,\n",
        " 'THYM': 12756,\n",
        " 'UCEC': 39539,\n",
        " 'UVM': 82}"
       ]
      }
     ],
     "prompt_number": 8
    },
    {
     "cell_type": "code",
     "collapsed": false,
     "input": [
      "p = sorted( code_count.items(), key=lambda x: x[1], reverse=True )\n",
      "#plt.axis('equal')\n",
      "#f = plt.figure()\n",
      "plt.figure(1, figsize=(18, 10))\n",
      "plt.bar( range(len(p)), list(i[1] for i in p) )\n",
      "plt.xticks(range(len(p)), list(i[0] for i in p), rotation=\"vertical\")"
     ],
     "language": "python",
     "metadata": {},
     "outputs": [
      {
       "metadata": {},
       "output_type": "pyout",
       "prompt_number": 31,
       "text": [
        "([<matplotlib.axis.XTick at 0x7f2fc21ff610>,\n",
        "  <matplotlib.axis.XTick at 0x7f2fc1c862d0>,\n",
        "  <matplotlib.axis.XTick at 0x7f2fc242d690>,\n",
        "  <matplotlib.axis.XTick at 0x7f2fc20f2890>,\n",
        "  <matplotlib.axis.XTick at 0x7f2fc20f2f90>,\n",
        "  <matplotlib.axis.XTick at 0x7f2fc210f6d0>,\n",
        "  <matplotlib.axis.XTick at 0x7f2fc210fdd0>,\n",
        "  <matplotlib.axis.XTick at 0x7f2fc21a6e10>,\n",
        "  <matplotlib.axis.XTick at 0x7f2fc21a6550>,\n",
        "  <matplotlib.axis.XTick at 0x7f2fc21b8350>,\n",
        "  <matplotlib.axis.XTick at 0x7f2fc21b8a50>,\n",
        "  <matplotlib.axis.XTick at 0x7f2fc1ce41d0>,\n",
        "  <matplotlib.axis.XTick at 0x7f2fc1a36390>,\n",
        "  <matplotlib.axis.XTick at 0x7f2fc1d663d0>,\n",
        "  <matplotlib.axis.XTick at 0x7f2fc21be2d0>,\n",
        "  <matplotlib.axis.XTick at 0x7f2fc21be9d0>,\n",
        "  <matplotlib.axis.XTick at 0x7f2fc212a110>,\n",
        "  <matplotlib.axis.XTick at 0x7f2fc212a810>,\n",
        "  <matplotlib.axis.XTick at 0x7f2fc212af10>,\n",
        "  <matplotlib.axis.XTick at 0x7f2fc213b650>,\n",
        "  <matplotlib.axis.XTick at 0x7f2fc213bd50>,\n",
        "  <matplotlib.axis.XTick at 0x7f2fc2118490>,\n",
        "  <matplotlib.axis.XTick at 0x7f2fc2118b90>,\n",
        "  <matplotlib.axis.XTick at 0x7f2fc21412d0>],\n",
        " <a list of 24 Text xticklabel objects>)"
       ]
      },
      {
       "metadata": {},
       "output_type": "display_data",
       "png": "[encoded data removed]",
       "text": [
        "<matplotlib.figure.Figure at 0x7f2fc242f090>"
       ]
      }
     ],
     "prompt_number": 31
    },
    {
     "cell_type": "code",
     "collapsed": false,
     "input": [],
     "language": "python",
     "metadata": {},
     "outputs": []
    }
   ],
   "metadata": {}
  }
 ]
}