{
 "metadata": {
  "name": "",
  "signature": "sha256:d0701bdb67ef2d21cb950254be618f4b70c83a73c51534adf8e6248b247bf0d8"
 },
 "nbformat": 3,
 "nbformat_minor": 0,
 "worksheets": [
  {
   "cells": [
    {
     "cell_type": "code",
     "collapsed": false,
     "input": [
      "%matplotlib inline\n",
      "import csv\n",
      "import gzip\n",
      "import matplotlib.pyplot as plt\n",
      "import numpy as np\n",
      "import itertools\n",
      "import pandas\n",
      "import json\n",
      "from sklearn import linear_model, model_selection, metrics\n",
      "from matplotlib.backends.backend_pdf import PdfPages\n",
      "from adjustText import adjust_text"
     ],
     "language": "python",
     "metadata": {},
     "outputs": [],
     "prompt_number": 1
    },
    {
     "cell_type": "code",
     "collapsed": false,
     "input": [
      "validation_file = \"Data/mc3_all_pairsets.aggregated.projects.maf.gz\"\n",
      "controlled_file = \"Data/mc3.v0.2.8.CONTROLLED.maf.gz\"\n",
      "public_file = \"Data/mc3.v0.2.8.PUBLIC.maf.gz\""
     ],
     "language": "python",
     "metadata": {},
     "outputs": [],
     "prompt_number": 2
    },
    {
     "cell_type": "code",
     "collapsed": false,
     "input": [
      "def row_id(row):\n",
      "    return \"%s:%s:%s:%s\" % (row['Tumor_Sample_Barcode'], \n",
      "                            row['Chromosome'], \n",
      "                            row['Start_Position'],\n",
      "                            row['End_Position'])"
     ],
     "language": "python",
     "metadata": {},
     "outputs": [],
     "prompt_number": 3
    },
    {
     "cell_type": "code",
     "collapsed": false,
     "input": [
      "maf_map = {}\n",
      "validated_data = []\n",
      "unvalidated_data = []\n",
      "germline_data = []\n",
      "callers = set()\n",
      "filters = set()\n",
      "\n",
      "\n",
      "val_order = [\n",
      "    \"mutval_status_targeted\",\n",
      "    \"mutval_status_wgs\",\n",
      "    #\"mutval_status_rna\",\n",
      "    \"mutval_status_lowpass\"\n",
      "]\n",
      "\n",
      "def row_extract(row):\n",
      "    out = {}\n",
      "    for i in [\"FILTER\", 'Variant_Type', 'CENTERS', 't_alt_count', 't_ref_count', 'CODE']:\n",
      "        out[i] = row[i]\n",
      "    return out\n",
      "\n",
      "\n",
      "with gzip.GzipFile(validation_file) as handle:\n",
      "    reader = csv.DictReader(handle, delimiter=\"\\t\")\n",
      "    for row in reader:\n",
      "        for v in val_order:\n",
      "            s = row[v]\n",
      "            if s.endswith(\"_powered\"):\n",
      "                for i in row[\"CENTERS\"].split(\"|\"):\n",
      "                    callers.add(i.replace(\"*\", \"\"))\n",
      "                for i in row[\"FILTER\"].split(\",\"):\n",
      "                    filters.add(i)\n",
      "                if s == \"germline_powered\":\n",
      "                    germline_data.append(row_extract(row))\n",
      "                if s == \"validated_powered\":\n",
      "                    validated_data.append(row_extract(row))\n",
      "                if s == \"unvalidated_powered\":\n",
      "                    unvalidated_data.append(row_extract(row))\n",
      "                break"
     ],
     "language": "python",
     "metadata": {},
     "outputs": [],
     "prompt_number": 6
    },
    {
     "cell_type": "code",
     "collapsed": false,
     "input": [
      "code_count = {}\n",
      "for i in validated_data + unvalidated_data + germline_data:\n",
      "    code_count[i['CODE']] = code_count.get(i['CODE'], 0) + 1"
     ],
     "language": "python",
     "metadata": {},
     "outputs": [],
     "prompt_number": 7
    },
    {
     "cell_type": "code",
     "collapsed": false,
     "input": [
      "print len(validated_data + unvalidated_data + germline_data)"
     ],
     "language": "python",
     "metadata": {},
     "outputs": [
      {
       "output_type": "stream",
       "stream": "stdout",
       "text": [
        "1336562\n"
       ]
      }
     ],
     "prompt_number": 8
    },
    {
     "cell_type": "code",
     "collapsed": false,
     "input": [
      "def get_vafs(gzpath):\n",
      "    vals = []\n",
      "    with gzip.GzipFile(gzpath) as handle:\n",
      "        reader = csv.DictReader(handle, delimiter=\"\\t\")\n",
      "        for row in reader:\n",
      "            vaf = float(row['t_alt_count']) / (float(row['t_alt_count']) + float(row['t_ref_count']))\n",
      "            vals.append(vaf)\n",
      "    return vals"
     ],
     "language": "python",
     "metadata": {},
     "outputs": [],
     "prompt_number": 9
    },
    {
     "cell_type": "code",
     "collapsed": false,
     "input": [
      "#controlled_vaf = get_vafs(controlled_file)"
     ],
     "language": "python",
     "metadata": {},
     "outputs": []
    },
    {
     "cell_type": "code",
     "collapsed": false,
     "input": [
      "validation_vaf = get_vafs(validation_file)"
     ],
     "language": "python",
     "metadata": {},
     "outputs": [],
     "prompt_number": 15
    },
    {
     "cell_type": "code",
     "collapsed": false,
     "input": [
      "public_vaf = get_vafs(public_file)"
     ],
     "language": "python",
     "metadata": {},
     "outputs": [],
     "prompt_number": 16
    },
    {
     "cell_type": "code",
     "collapsed": false,
     "input": [
      "def bin_vafs(a):\n",
      "    l = [\n",
      "        (0.00, 0.02),\n",
      "        (0.02, 0.05),\n",
      "        (0.05, 0.15),\n",
      "        (0.15, 0.25),\n",
      "        (0.25, 0.50),\n",
      "        (0.50, 1.00),\n",
      "    ]\n",
      "    x = []\n",
      "    for i in l:\n",
      "        x.append( sum(map(lambda x: x > i[0] and x < i[1], a)) )\n",
      "    return x, l"
     ],
     "language": "python",
     "metadata": {},
     "outputs": [],
     "prompt_number": 17
    },
    {
     "cell_type": "code",
     "collapsed": false,
     "input": [
      "pdf = PdfPages('Pdfs/Supplemental_Figure_1.pdf')\n",
      "\n",
      "p = sorted( code_count.items(), key=lambda x: x[1], reverse=True )\n",
      "#plt.axis('equal')\n",
      "#f = plt.figure()\n",
      "\n",
      "colors = [\"#5DA5A1\",\"#C45331\",\"#E7960A\",\"#F6E849\",\"#016384\",\"#B1A2A7\",\"#C9A784\",\"#8C7851\",\"#D8CDB7\",\"#086453\",\"#F7D87B\"]\n",
      "\n",
      "fig = plt.figure(1, figsize=(15, 10))\n",
      "x, l = bin_vafs(validation_vaf)\n",
      "ax1 = plt.subplot2grid((3,3),(0,0))\n",
      "ax1.axis('equal')\n",
      "ax1.set_title(\"Validation\")\n",
      "ax1.set_color_cycle(colors)\n",
      "patches, texts = ax1.pie(x)\n",
      "\n",
      "fig.text(0.05,.9, \"A)\", fontsize=20)\n",
      "\n",
      "x, l = bin_vafs(public_vaf)\n",
      "ax2 = plt.subplot2grid((3,3),(0,1))\n",
      "ax2.axis('equal')\n",
      "ax2.set_title(\"Public\")\n",
      "ax2.set_color_cycle(colors)\n",
      "_ = ax2.pie(x)\n",
      "\n",
      "\n",
      "ax2 = plt.subplot2grid((3,3),(0,2))\n",
      "labels = []\n",
      "for i in l:\n",
      "    labels.append( \"%s to %s\" % (i[0], i[1]) )\n",
      "ax2.axes.get_xaxis().set_visible(False)\n",
      "ax2.axes.get_yaxis().set_visible(False)\n",
      "ax2.axis('off')\n",
      "ax2.patch.set_visible(False)\n",
      "leg = ax2.legend(patches, labels, title='Variant Allele Fraction', prop={'size':20})\n",
      "leg.set_title('Variant Allele Fraction',prop={'size':20} )\n",
      "\n",
      "ax3 = plt.subplot2grid((3,3),(1,0), colspan=3)\n",
      "ax3.bar( range(len(p)), list(i[1] for i in p) )\n",
      "ax3.set_xticks(range(len(p)))\n",
      "ax3.set_xticklabels(list(i[0] for i in p), rotation=\"vertical\")\n",
      "ax3.set_title(\"Cancer Type Composition\")\n",
      "fig.text(0.05, 0.66,\"B)\",fontsize=20)\n",
      "txt = \"\"\"Supplemental Figure 1: Composition of Validation Data. A) Composition of the Variant Allele Fraction (VAF) of mutations in \n",
      "the validation set vs the entire public data set. Validation data has a clear bias toward lower VAF mutations, selected \n",
      "for validation because they were harder to call. B) Composition of the validation data by cancer type. Most of the calls \n",
      "coming from UCEC, COAD and LUAD.\"\"\"\n",
      "fig.text(.02,.20, txt, fontsize=14)\n",
      "\n",
      "plt.tight_layout(pad=0.4)\n",
      "\n",
      "pdf.savefig()\n",
      "plt.close()\n",
      "pdf.close()"
     ],
     "language": "python",
     "metadata": {},
     "outputs": [],
     "prompt_number": 51
    },
    {
     "cell_type": "code",
     "collapsed": false,
     "input": [
      "from IPython.display import FileLink, FileLinks\n",
      "FileLink('Pdfs/Supplemental_Figure_1.pdf')"
     ],
     "language": "python",
     "metadata": {},
     "outputs": [
      {
       "html": [
        "<a href='Pdfs/Supplemental_Figure_1.pdf' target='_blank'>Pdfs/Supplemental_Figure_1.pdf</a><br>"
       ],
       "metadata": {},
       "output_type": "pyout",
       "prompt_number": 52,
       "text": [
        "/mnt/mc3-analysis/Pdfs/Supplemental_Figure_1.pdf"
       ]
      }
     ],
     "prompt_number": 52
    },
    {
     "cell_type": "code",
     "collapsed": false,
     "input": [],
     "language": "python",
     "metadata": {},
     "outputs": []
    }
   ],
   "metadata": {}
  }
 ]
}